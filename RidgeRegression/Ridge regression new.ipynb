{
 "cells": [
  {
   "cell_type": "code",
   "execution_count": 12,
   "metadata": {
    "collapsed": true
   },
   "outputs": [],
   "source": [
    "from __future__ import division\n",
    "import pandas as pd\n",
    "import numpy as np\n",
    "import random"
   ]
  },
  {
   "cell_type": "code",
   "execution_count": 13,
   "metadata": {
    "collapsed": true
   },
   "outputs": [],
   "source": [
    "global df\n",
    "global alpha\n",
    "global theta\n",
    "global X\n",
    "global y\n",
    "global lmbda\n",
    "global delta\n",
    "global train\n",
    "global test"
   ]
  },
  {
   "cell_type": "code",
   "execution_count": 14,
   "metadata": {
    "collapsed": true
   },
   "outputs": [],
   "source": [
    "\n",
    "#Function to import data\n",
    "\n",
    "def import_data():\n",
    "    global df\n",
    "    \n",
    "    df = pd.read_excel('counter-strike/playerStatsnumeric.xlsx')\n",
    "    df.dropna(inplace=True)\n",
    "    return"
   ]
  },
  {
   "cell_type": "code",
   "execution_count": 15,
   "metadata": {
    "collapsed": true
   },
   "outputs": [],
   "source": [
    "#Function to standardize input features\n",
    "\n",
    "def stand_norm():\n",
    "    global df\n",
    "    \n",
    "    backup = df\n",
    "    resp = df['ADR']\n",
    "    df.drop(['ADR'], axis=1, inplace=True)\n",
    "    \n",
    "    cols = list(df)\n",
    "    \n",
    "    stats = df.describe()\n",
    "    for col in cols:\n",
    "        def func(x):\n",
    "            return (x-stats[col][1])/stats[col][2]\n",
    "\n",
    "        df[col] = df[col].apply(func)\n",
    "    df['ADR'] = resp\n",
    "    return"
   ]
  },
  {
   "cell_type": "code",
   "execution_count": 16,
   "metadata": {
    "collapsed": true
   },
   "outputs": [],
   "source": [
    "#Function to create 2nd degree polynomial features as L2-Regularization isn't really useful with a few number of features.\n",
    "\n",
    "def feature_map():\n",
    "    global df\n",
    "    \n",
    "    cols = list(df)\n",
    "    \n",
    "    backup = df\n",
    "    resp = df['ADR']\n",
    "    df.drop(['ADR'], axis=1, inplace=True)\n",
    "\n",
    "    nums = range(0,12)\n",
    "    for i in range(0,18):\n",
    "        first = random.choice(nums)\n",
    "        second = random.choice(nums)\n",
    "        name = cols[first] + \"x\" + cols[second]\n",
    "        df[name] = df[cols[first]].multiply(df[cols[second]], axis=0)\n",
    "\n",
    "    df['ADR'] = resp\n",
    "    return"
   ]
  },
  {
   "cell_type": "code",
   "execution_count": 17,
   "metadata": {
    "collapsed": true
   },
   "outputs": [],
   "source": [
    "#Function to compute J_theta (or the cost function)\n",
    "\n",
    "def costFunc(X,y,theta,length):\n",
    "    global lmbda\n",
    "    \n",
    "    sq_diff = np.sum((np.sum(np.array(X) * theta, axis=1) - np.array(y))**2)\n",
    "    cost = (1/(2*(length))) * (sq_diff + (lmbda * np.sum(theta[1:]**2)))\n",
    "    return cost"
   ]
  },
  {
   "cell_type": "code",
   "execution_count": 18,
   "metadata": {
    "collapsed": true
   },
   "outputs": [],
   "source": [
    "#Function to run batch gradient descent algorithm to optimize the cost fuction of the problem.\n",
    "\n",
    "def gradientDesc(X,y,train,lmbda,alpha,n_iter):\n",
    "    global theta\n",
    "    \n",
    "    costs = list()\n",
    "    for i in range(0, n_iter):\n",
    "        theta[0] = theta[0] - (alpha/len(train)) * np.sum((np.sum(np.array(X) * theta, axis=1) - np.array(y)))\n",
    "        for j in range(1,len(theta)):\n",
    "            theta[j] = theta[j]*(1 - ((alpha*lmbda)/len(train))) - (alpha/len(train)) * (np.sum((np.sum(np.array(X) * theta, axis=1) - np.array(y)) * np.array(X.ix[:,j])))\n",
    "        costs.append(costFunc(X, y, theta, len(train)))\n",
    "    return costs"
   ]
  },
  {
   "cell_type": "code",
   "execution_count": 31,
   "metadata": {
    "collapsed": true
   },
   "outputs": [],
   "source": [
    "def main(A=None):\n",
    "    global alpha\n",
    "    global df\n",
    "    global theta\n",
    "    global X\n",
    "    global y\n",
    "    global lmbda\n",
    "    global delta\n",
    "    global train\n",
    "    global test\n",
    "    \n",
    "    lmbda = 1\n",
    "    alpha = 0.005\n",
    "    n_iter = 1500\n",
    "    \n",
    "    #To import, standardize and map features to achieve final data set.\n",
    "    import_data()\n",
    "    stand_norm()\n",
    "    feature_map()\n",
    "    \n",
    "    \n",
    "    df = df.iloc[np.random.permutation(len(df)-1)].reset_index(drop=1) # To shuffle the dataset\n",
    "    train_size = int(round(len(df) * 0.75)) # Training set size: 75% of full data set.\n",
    "    train = df[:train_size]\n",
    "    test = df[train_size:]\n",
    "    \n",
    "    Xn    = pd.Series([1] * len(train)) # Creation feature X_0 which is to hold a value of 1.\n",
    "    X     = pd.concat([Xn, train.drop(['ADR'], axis=1)], axis=1) #Feature set in X\n",
    "    y     = train['ADR'] #Response variable in y\n",
    "    theta = [0.0] * (len(list(X))) #Theta or parameter vector initialized with 1\n",
    "    theta = np.array(theta)\n",
    "    \n",
    "    #To train on train data set\n",
    "    costs = gradientDesc(X,y,train,lmbda,alpha,n_iter)\n",
    "    \n",
    "    Xn    = pd.Series([1] * len(test))\n",
    "    test.reset_index(drop=1, inplace=True)\n",
    "    test_x = pd.concat([Xn, test.drop('ADR',axis=1)], axis=1)\n",
    "    test_y = test['ADR']\n",
    "    \n",
    "    #To test model on test set\n",
    "    predictions = test_x * theta\n",
    "    residuals = np.sum(np.array(test_x) * theta, axis=1) - test_y\n",
    "    residuals = [(abs(a)/b)*100 for a,b in zip(residuals,test_y)]\n",
    "    cost = sum(residuals)/len(residuals)\n",
    "    \n",
    "    return cost\n",
    "    #Normal Equation method comparison\n",
    "    #theta_num  = np.dot(np.dot((np.linalg.inv(np.dot(np.matrix.transpose(np.array(X)),np.array(X)))), np.matrix.transpose(np.array(X))), np.array(y))\n",
    "    #cost = costFunc(X,y,theta_num)"
   ]
  },
  {
   "cell_type": "code",
   "execution_count": 29,
   "metadata": {
    "scrolled": true
   },
   "outputs": [
    {
     "ename": "IndexError",
     "evalue": "list index out of range",
     "output_type": "error",
     "traceback": [
      "\u001b[1;31m---------------------------------------------------------------------------\u001b[0m",
      "\u001b[1;31mIndexError\u001b[0m                                Traceback (most recent call last)",
      "\u001b[1;32m<ipython-input-29-e1eb45fa7cfa>\u001b[0m in \u001b[0;36m<module>\u001b[1;34m()\u001b[0m\n\u001b[0;32m      1\u001b[0m \u001b[1;32mif\u001b[0m \u001b[0m__name__\u001b[0m \u001b[1;33m==\u001b[0m \u001b[1;34m'__main__'\u001b[0m\u001b[1;33m:\u001b[0m\u001b[1;33m\u001b[0m\u001b[0m\n\u001b[0;32m      2\u001b[0m \u001b[1;33m\u001b[0m\u001b[0m\n\u001b[1;32m----> 3\u001b[1;33m     \u001b[0mcost\u001b[0m \u001b[1;33m=\u001b[0m \u001b[0mmain\u001b[0m\u001b[1;33m(\u001b[0m\u001b[1;33m)\u001b[0m\u001b[1;33m\u001b[0m\u001b[0m\n\u001b[0m\u001b[0;32m      4\u001b[0m \u001b[1;33m\u001b[0m\u001b[0m\n\u001b[0;32m      5\u001b[0m     \u001b[0mprint\u001b[0m\u001b[1;33m(\u001b[0m\u001b[1;34m'Mean Absolute Percentage Error of our Model on test set:'\u001b[0m\u001b[1;33m,\u001b[0m\u001b[0mcost\u001b[0m\u001b[1;33m,\u001b[0m\u001b[1;34m'%'\u001b[0m\u001b[1;33m)\u001b[0m\u001b[1;33m\u001b[0m\u001b[0m\n",
      "\u001b[1;32m<ipython-input-24-59fb56784156>\u001b[0m in \u001b[0;36mmain\u001b[1;34m(A)\u001b[0m\n\u001b[0;32m     17\u001b[0m     \u001b[0mimport_data\u001b[0m\u001b[1;33m(\u001b[0m\u001b[1;33m)\u001b[0m\u001b[1;33m\u001b[0m\u001b[0m\n\u001b[0;32m     18\u001b[0m     \u001b[0mstand_norm\u001b[0m\u001b[1;33m(\u001b[0m\u001b[1;33m)\u001b[0m\u001b[1;33m\u001b[0m\u001b[0m\n\u001b[1;32m---> 19\u001b[1;33m     \u001b[0mfeature_map\u001b[0m\u001b[1;33m(\u001b[0m\u001b[1;33m)\u001b[0m\u001b[1;33m\u001b[0m\u001b[0m\n\u001b[0m\u001b[0;32m     20\u001b[0m \u001b[1;33m\u001b[0m\u001b[0m\n\u001b[0;32m     21\u001b[0m \u001b[1;33m\u001b[0m\u001b[0m\n",
      "\u001b[1;32m<ipython-input-16-d907107a9ad8>\u001b[0m in \u001b[0;36mfeature_map\u001b[1;34m()\u001b[0m\n\u001b[0;32m     14\u001b[0m         \u001b[0mfirst\u001b[0m \u001b[1;33m=\u001b[0m \u001b[0mrandom\u001b[0m\u001b[1;33m.\u001b[0m\u001b[0mchoice\u001b[0m\u001b[1;33m(\u001b[0m\u001b[0mnums\u001b[0m\u001b[1;33m)\u001b[0m\u001b[1;33m\u001b[0m\u001b[0m\n\u001b[0;32m     15\u001b[0m         \u001b[0msecond\u001b[0m \u001b[1;33m=\u001b[0m \u001b[0mrandom\u001b[0m\u001b[1;33m.\u001b[0m\u001b[0mchoice\u001b[0m\u001b[1;33m(\u001b[0m\u001b[0mnums\u001b[0m\u001b[1;33m)\u001b[0m\u001b[1;33m\u001b[0m\u001b[0m\n\u001b[1;32m---> 16\u001b[1;33m         \u001b[0mname\u001b[0m \u001b[1;33m=\u001b[0m \u001b[0mcols\u001b[0m\u001b[1;33m[\u001b[0m\u001b[0mfirst\u001b[0m\u001b[1;33m]\u001b[0m \u001b[1;33m+\u001b[0m \u001b[1;34m\"x\"\u001b[0m \u001b[1;33m+\u001b[0m \u001b[0mcols\u001b[0m\u001b[1;33m[\u001b[0m\u001b[0msecond\u001b[0m\u001b[1;33m]\u001b[0m\u001b[1;33m\u001b[0m\u001b[0m\n\u001b[0m\u001b[0;32m     17\u001b[0m         \u001b[0mdf\u001b[0m\u001b[1;33m[\u001b[0m\u001b[0mname\u001b[0m\u001b[1;33m]\u001b[0m \u001b[1;33m=\u001b[0m \u001b[0mdf\u001b[0m\u001b[1;33m[\u001b[0m\u001b[0mcols\u001b[0m\u001b[1;33m[\u001b[0m\u001b[0mfirst\u001b[0m\u001b[1;33m]\u001b[0m\u001b[1;33m]\u001b[0m\u001b[1;33m.\u001b[0m\u001b[0mmultiply\u001b[0m\u001b[1;33m(\u001b[0m\u001b[0mdf\u001b[0m\u001b[1;33m[\u001b[0m\u001b[0mcols\u001b[0m\u001b[1;33m[\u001b[0m\u001b[0msecond\u001b[0m\u001b[1;33m]\u001b[0m\u001b[1;33m]\u001b[0m\u001b[1;33m,\u001b[0m \u001b[0maxis\u001b[0m\u001b[1;33m=\u001b[0m\u001b[1;36m0\u001b[0m\u001b[1;33m)\u001b[0m\u001b[1;33m\u001b[0m\u001b[0m\n\u001b[0;32m     18\u001b[0m \u001b[1;33m\u001b[0m\u001b[0m\n",
      "\u001b[1;31mIndexError\u001b[0m: list index out of range"
     ]
    }
   ],
   "source": [
    "if __name__ == '__main__':\n",
    "    \n",
    "    cost = main()\n",
    "        \n",
    "    print('Mean Absolute Percentage Error of our Model on test set:',cost,'%')"
   ]
  },
  {
   "cell_type": "code",
   "execution_count": 35,
   "metadata": {
    "collapsed": true
   },
   "outputs": [],
   "source": [
    "#Now we use the built-in ridge regression module in sci-kit learn on our data set to compare performance with the one we built above.\n",
    "\n",
    "from sklearn.linear_model import Ridge\n",
    "def main(A=None):\n",
    "    global alpha\n",
    "    global df\n",
    "    global theta\n",
    "    global X\n",
    "    global y\n",
    "    global lmbda\n",
    "    global delta\n",
    "    global train\n",
    "    global test\n",
    "    "
   ]
  },
  {
   "cell_type": "code",
   "execution_count": 38,
   "metadata": {},
   "outputs": [
    {
     "ename": "NameError",
     "evalue": "name 'X' is not defined",
     "output_type": "error",
     "traceback": [
      "\u001b[1;31m---------------------------------------------------------------------------\u001b[0m",
      "\u001b[1;31mNameError\u001b[0m                                 Traceback (most recent call last)",
      "\u001b[1;32m<ipython-input-38-1b8c760048e1>\u001b[0m in \u001b[0;36m<module>\u001b[1;34m()\u001b[0m\n\u001b[0;32m      1\u001b[0m \u001b[0mclf\u001b[0m \u001b[1;33m=\u001b[0m \u001b[0mRidge\u001b[0m\u001b[1;33m(\u001b[0m\u001b[0malpha\u001b[0m\u001b[1;33m=\u001b[0m\u001b[1;36m1\u001b[0m\u001b[1;33m,\u001b[0m \u001b[0msolver\u001b[0m\u001b[1;33m=\u001b[0m\u001b[1;34m'sag'\u001b[0m\u001b[1;33m,\u001b[0m \u001b[0mmax_iter\u001b[0m\u001b[1;33m=\u001b[0m\u001b[1;36m1500\u001b[0m\u001b[1;33m)\u001b[0m \u001b[1;31m#We use the stochastic averaged gradient descent algorihtm since batch GD isn't available\u001b[0m\u001b[1;33m\u001b[0m\u001b[0m\n\u001b[1;32m----> 2\u001b[1;33m \u001b[0mX\u001b[0m \u001b[1;33m=\u001b[0m \u001b[0mnp\u001b[0m\u001b[1;33m.\u001b[0m\u001b[0marray\u001b[0m\u001b[1;33m(\u001b[0m\u001b[0mX\u001b[0m\u001b[1;33m)\u001b[0m\u001b[1;33m\u001b[0m\u001b[0m\n\u001b[0m\u001b[0;32m      3\u001b[0m \u001b[0my\u001b[0m \u001b[1;33m=\u001b[0m \u001b[0mnp\u001b[0m\u001b[1;33m.\u001b[0m\u001b[0marray\u001b[0m\u001b[1;33m(\u001b[0m\u001b[0my\u001b[0m\u001b[1;33m)\u001b[0m\u001b[1;33m\u001b[0m\u001b[0m\n\u001b[0;32m      4\u001b[0m \u001b[1;33m\u001b[0m\u001b[0m\n\u001b[0;32m      5\u001b[0m \u001b[0mmodel\u001b[0m \u001b[1;33m=\u001b[0m \u001b[0mclf\u001b[0m\u001b[1;33m.\u001b[0m\u001b[0mfit\u001b[0m\u001b[1;33m(\u001b[0m\u001b[0mX\u001b[0m\u001b[1;33m,\u001b[0m \u001b[0my\u001b[0m\u001b[1;33m)\u001b[0m\u001b[1;33m\u001b[0m\u001b[0m\n",
      "\u001b[1;31mNameError\u001b[0m: name 'X' is not defined"
     ]
    }
   ],
   "source": [
    "clf = Ridge(alpha=1, solver='sag', max_iter=1500) #We use the stochastic averaged gradient descent algorihtm since batch GD isn't available\n",
    "X = np.array(X)\n",
    "y = np.array(y)    \n",
    "\n",
    "model = clf.fit(X, y)\n",
    "\n",
    "Xn    = pd.Series([1] * len(test))\n",
    "test.reset_index(drop=1, inplace=True)\n",
    "test_x = pd.concat([Xn, test.drop('ADR',axis=1)], axis=1)\n",
    "test_y = test['ADR']\n",
    "\n",
    "pred = model.predict(test_x)\n",
    "residuals = pred - test_y\n",
    "residuals = [(abs(a)/b)*100 for a,b in zip(residuals,test_y)]\n",
    "cost = sum(residuals)/len(residuals)\n",
    "print('Mean Absolute Percentage Error of built-in model on test set:',cost,'%')"
   ]
  },
  {
   "cell_type": "code",
   "execution_count": 39,
   "metadata": {},
   "outputs": [
    {
     "name": "stderr",
     "output_type": "stream",
     "text": [
      "C:\\Users\\Pornima\\Anaconda3\\lib\\site-packages\\sklearn\\cross_validation.py:44: DeprecationWarning: This module was deprecated in version 0.18 in favor of the model_selection module into which all the refactored classes and functions are moved. Also note that the interface of the new CV iterators are different from that of this module. This module will be removed in 0.20.\n",
      "  \"This module will be removed in 0.20.\", DeprecationWarning)\n"
     ]
    }
   ],
   "source": [
    "import numpy as np\n",
    "from mpl_toolkits.mplot3d import Axes3D\n",
    "import matplotlib.pyplot as plt\n",
    "#import sklearn\n",
    "from sklearn.preprocessing import scale\n",
    "from sklearn import cross_validation\n",
    "from sklearn.linear_model import Ridge, RidgeCV, Lasso, LassoCV, LinearRegression\n",
    "from sklearn.metrics import mean_squared_error\n",
    "from sklearn.model_selection import train_test_split, cross_val_score\n",
    "import pandas as pd\n",
    "import seaborn as sns"
   ]
  },
  {
   "cell_type": "code",
   "execution_count": 40,
   "metadata": {
    "collapsed": true
   },
   "outputs": [],
   "source": [
    "def getacf(x,nlags):\n",
    "    a = [] \n",
    "#    print nlags,len(x),x[0]\n",
    "    for i in range(nlags):\n",
    "        c = 0.0\n",
    "        for j in range(len(x)-i):\n",
    "            c = c + x[j]*x[j+i] \n",
    "#        print i, c    \n",
    "        c  = c /len(x) \n",
    "        a.append(c) \n",
    "    return a"
   ]
  },
  {
   "cell_type": "code",
   "execution_count": 41,
   "metadata": {
    "collapsed": true
   },
   "outputs": [],
   "source": [
    "plt.close('all')"
   ]
  },
  {
   "cell_type": "code",
   "execution_count": 49,
   "metadata": {
    "collapsed": true
   },
   "outputs": [],
   "source": [
    "df = pd.read_csv('counter-strike/playerStatsnumeric.csv').dropna()\n",
    "df.index = range(len(df))\n",
    "#df.info()\n",
    "dumies = pd.get_dummies(df[['Kills', 'Deaths','KAST%','Rating']])\n",
    "y = df.ADR"
   ]
  },
  {
   "cell_type": "code",
   "execution_count": 51,
   "metadata": {
    "collapsed": true
   },
   "outputs": [],
   "source": [
    "X_ = df.drop(['Player','Kills','Deaths','ADR','KAST%','Rating'],axis=1).astype('float64')"
   ]
  },
  {
   "cell_type": "code",
   "execution_count": 55,
   "metadata": {
    "collapsed": true
   },
   "outputs": [],
   "source": [
    "#FEATURES\n",
    "X = pd.concat([X_, dumies[['Kills', 'Deaths','KAST%','Rating']]], axis=1)"
   ]
  },
  {
   "cell_type": "code",
   "execution_count": 56,
   "metadata": {},
   "outputs": [
    {
     "data": {
      "image/png": "[encoded data removed]",
      "text/plain": [
       "<matplotlib.figure.Figure at 0x15755cbaac8>"
      ]
     },
     "metadata": {},
     "output_type": "display_data"
    }
   ],
   "source": [
    "# correlation of features \n",
    "\n",
    "xcorr = X.corr()\n",
    "fnames = list(X)\n",
    "nf = len(X.columns)\n",
    "fig = plt.figure()\n",
    "ax = fig.add_subplot(111)\n",
    "cax = ax.imshow(xcorr,cmap='hot')\n",
    "#cax = ax.matshow(xcorr, vmin=-1, vmax=1)\n",
    "fig.colorbar(cax)\n",
    "ticks = np.arange(0,nf,1)\n",
    "ax.set_xticks(ticks)\n",
    "ax.set_yticks(ticks)\n",
    "ax.set_xticklabels(fnames,rotation=\"90\")\n",
    "ax.set_yticklabels(fnames)\n",
    "plt.show()"
   ]
  },
  {
   "cell_type": "code",
   "execution_count": 67,
   "metadata": {
    "collapsed": true
   },
   "outputs": [],
   "source": [
    "# Split data into training and test sets\n",
    "X_train, X_test , y_train, y_test = train_test_split(X, y, test_size=0.5, random_state=1)"
   ]
  },
  {
   "cell_type": "code",
   "execution_count": 68,
   "metadata": {},
   "outputs": [
    {
     "name": "stdout",
     "output_type": "stream",
     "text": [
      "Kills     0.347913\n",
      "Deaths   -0.128511\n",
      "KAST%     0.126288\n",
      "Rating    7.752628\n",
      "dtype: float64\n",
      "208.728012896\n"
     ]
    }
   ],
   "source": [
    "ridge2 = Ridge(alpha = 4, normalize = True)\n",
    "ridge2.fit(X_train, y_train)             # Fit a ridge regression on the training data\n",
    "pred2 = ridge2.predict(X_test)           # Use this model to predict the test data\n",
    "print(pd.Series(ridge2.coef_, index = X.columns)) # Print coefficients\n",
    "print(mean_squared_error(y_test, pred2))          # Calculate the test MSE"
   ]
  },
  {
   "cell_type": "code",
   "execution_count": 70,
   "metadata": {},
   "outputs": [
    {
     "data": {
      "text/plain": [
       "array([ 77.11654865,  71.5286401 ,  72.22559745, ...,  72.15590959,\n",
       "        68.43491582,  71.58269725])"
      ]
     },
     "execution_count": 70,
     "metadata": {},
     "output_type": "execute_result"
    }
   ],
   "source": [
    "#Predict Output\n",
    "predicted= ridge2.predict(X_test)\n",
    "predicted"
   ]
  },
  {
   "cell_type": "code",
   "execution_count": 69,
   "metadata": {},
   "outputs": [
    {
     "data": {
      "text/plain": [
       "0.43486288631915854"
      ]
     },
     "execution_count": 69,
     "metadata": {},
     "output_type": "execute_result"
    }
   ],
   "source": [
    "ridge2.score(X,y)"
   ]
  },
  {
   "cell_type": "code",
   "execution_count": 57,
   "metadata": {
    "collapsed": true
   },
   "outputs": [],
   "source": [
    "Xt = X \n",
    "Yt = y"
   ]
  },
  {
   "cell_type": "code",
   "execution_count": 58,
   "metadata": {
    "collapsed": true
   },
   "outputs": [],
   "source": [
    "#----- least squares \n",
    "# Simulated data \n",
    "NF = 2  # number of features \n",
    "k = 400   # number of observations "
   ]
  },
  {
   "cell_type": "code",
   "execution_count": 59,
   "metadata": {
    "collapsed": true
   },
   "outputs": [],
   "source": [
    "# Data synthesis \n",
    "nord = 2\n",
    "Xt = np.zeros((k,NF))\n",
    "Yt = np.zeros((k))\n",
    "w = np.zeros((nord)) "
   ]
  },
  {
   "cell_type": "code",
   "execution_count": 60,
   "metadata": {
    "collapsed": true
   },
   "outputs": [],
   "source": [
    "xmin = 0.0\n",
    "xmax = 1.0\n",
    "#X[:,0] = np.linspace(xmin,xmax,k)\n",
    "Xt[:,0] = np.random.rand(k)\n",
    "#X[:,1] = X[:,0]**2\n",
    "Xt[:,1] = np.random.rand(k)"
   ]
  },
  {
   "cell_type": "code",
   "execution_count": 61,
   "metadata": {
    "collapsed": true
   },
   "outputs": [],
   "source": [
    "w[0] = 0.65\n",
    "w[1] = 0.9"
   ]
  },
  {
   "cell_type": "code",
   "execution_count": 63,
   "metadata": {
    "collapsed": true
   },
   "outputs": [],
   "source": [
    "Yt = Xt.dot(w)"
   ]
  },
  {
   "cell_type": "code",
   "execution_count": 64,
   "metadata": {
    "collapsed": true
   },
   "outputs": [],
   "source": [
    "# add noise\n",
    "var = 0.05\n",
    "mu, sigma = 0.0, np.sqrt(var) \n",
    "g = mu + sigma * np.random.randn(k) "
   ]
  },
  {
   "cell_type": "code",
   "execution_count": 65,
   "metadata": {
    "collapsed": true
   },
   "outputs": [],
   "source": [
    "Yt = Yt + g "
   ]
  }
 ],
 "metadata": {
  "kernelspec": {
   "display_name": "Python 3",
   "language": "python",
   "name": "python3"
  },
  "language_info": {
   "codemirror_mode": {
    "name": "ipython",
    "version": 3
   },
   "file_extension": ".py",
   "mimetype": "text/x-python",
   "name": "python",
   "nbconvert_exporter": "python",
   "pygments_lexer": "ipython3",
   "version": "3.7.1"
  }
 },
 "nbformat": 4,
 "nbformat_minor": 2
}
