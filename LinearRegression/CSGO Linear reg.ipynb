{
 "cells": [
  {
   "cell_type": "code",
   "execution_count": 2,
   "metadata": {
    "collapsed": true
   },
   "outputs": [],
   "source": [
    "import pandas as pd\n",
    "from pandas import DataFrame\n",
    "\n",
    "import numpy as np\n",
    "\n",
    "# visualization\n",
    "import seaborn as sns\n",
    "import matplotlib.pyplot as plt\n",
    "\n",
    "# this allows plots to appear directly in the notebook\n",
    "%matplotlib inline\n",
    "sns.set(style='whitegrid', context='notebook')"
   ]
  },
  {
   "cell_type": "code",
   "execution_count": 3,
   "metadata": {},
   "outputs": [
    {
     "data": {
      "text/html": [
       "<div>\n",
       "<style>\n",
       "    .dataframe thead tr:only-child th {\n",
       "        text-align: right;\n",
       "    }\n",
       "\n",
       "    .dataframe thead th {\n",
       "        text-align: left;\n",
       "    }\n",
       "\n",
       "    .dataframe tbody tr th {\n",
       "        vertical-align: top;\n",
       "    }\n",
       "</style>\n",
       "<table border=\"1\" class=\"dataframe\">\n",
       "  <thead>\n",
       "    <tr style=\"text-align: right;\">\n",
       "      <th></th>\n",
       "      <th>Map</th>\n",
       "      <th>Player</th>\n",
       "      <th>Kills</th>\n",
       "      <th>Deaths</th>\n",
       "      <th>ADR</th>\n",
       "      <th>KAST%</th>\n",
       "      <th>Rating</th>\n",
       "      <th>MatchID</th>\n",
       "    </tr>\n",
       "  </thead>\n",
       "  <tbody>\n",
       "    <tr>\n",
       "      <th>0</th>\n",
       "      <td>Nuke</td>\n",
       "      <td>4216</td>\n",
       "      <td>22</td>\n",
       "      <td>19</td>\n",
       "      <td>85.0</td>\n",
       "      <td>69.0</td>\n",
       "      <td>1.17</td>\n",
       "      <td>2311133/binary-dragons-vs-alpha-binary-dragons...</td>\n",
       "    </tr>\n",
       "    <tr>\n",
       "      <th>1</th>\n",
       "      <td>Nuke</td>\n",
       "      <td>3543</td>\n",
       "      <td>26</td>\n",
       "      <td>23</td>\n",
       "      <td>83.5</td>\n",
       "      <td>58.6</td>\n",
       "      <td>1.10</td>\n",
       "      <td>2311133/binary-dragons-vs-alpha-binary-dragons...</td>\n",
       "    </tr>\n",
       "    <tr>\n",
       "      <th>2</th>\n",
       "      <td>Nuke</td>\n",
       "      <td>3972</td>\n",
       "      <td>20</td>\n",
       "      <td>23</td>\n",
       "      <td>78.2</td>\n",
       "      <td>75.9</td>\n",
       "      <td>1.02</td>\n",
       "      <td>2311133/binary-dragons-vs-alpha-binary-dragons...</td>\n",
       "    </tr>\n",
       "    <tr>\n",
       "      <th>3</th>\n",
       "      <td>Nuke</td>\n",
       "      <td>2476</td>\n",
       "      <td>17</td>\n",
       "      <td>20</td>\n",
       "      <td>68.1</td>\n",
       "      <td>79.3</td>\n",
       "      <td>0.97</td>\n",
       "      <td>2311133/binary-dragons-vs-alpha-binary-dragons...</td>\n",
       "    </tr>\n",
       "    <tr>\n",
       "      <th>4</th>\n",
       "      <td>Nuke</td>\n",
       "      <td>2299</td>\n",
       "      <td>17</td>\n",
       "      <td>20</td>\n",
       "      <td>66.3</td>\n",
       "      <td>65.5</td>\n",
       "      <td>0.86</td>\n",
       "      <td>2311133/binary-dragons-vs-alpha-binary-dragons...</td>\n",
       "    </tr>\n",
       "    <tr>\n",
       "      <th>5</th>\n",
       "      <td>Nuke</td>\n",
       "      <td>11915</td>\n",
       "      <td>28</td>\n",
       "      <td>21</td>\n",
       "      <td>99.8</td>\n",
       "      <td>65.5</td>\n",
       "      <td>1.35</td>\n",
       "      <td>2311133/binary-dragons-vs-alpha-binary-dragons...</td>\n",
       "    </tr>\n",
       "    <tr>\n",
       "      <th>6</th>\n",
       "      <td>Nuke</td>\n",
       "      <td>12802</td>\n",
       "      <td>20</td>\n",
       "      <td>17</td>\n",
       "      <td>78.2</td>\n",
       "      <td>75.9</td>\n",
       "      <td>1.20</td>\n",
       "      <td>2311133/binary-dragons-vs-alpha-binary-dragons...</td>\n",
       "    </tr>\n",
       "    <tr>\n",
       "      <th>7</th>\n",
       "      <td>Nuke</td>\n",
       "      <td>7590</td>\n",
       "      <td>21</td>\n",
       "      <td>24</td>\n",
       "      <td>85.6</td>\n",
       "      <td>65.5</td>\n",
       "      <td>1.03</td>\n",
       "      <td>2311133/binary-dragons-vs-alpha-binary-dragons...</td>\n",
       "    </tr>\n",
       "    <tr>\n",
       "      <th>8</th>\n",
       "      <td>Nuke</td>\n",
       "      <td>2982</td>\n",
       "      <td>18</td>\n",
       "      <td>20</td>\n",
       "      <td>66.6</td>\n",
       "      <td>69.0</td>\n",
       "      <td>1.00</td>\n",
       "      <td>2311133/binary-dragons-vs-alpha-binary-dragons...</td>\n",
       "    </tr>\n",
       "    <tr>\n",
       "      <th>9</th>\n",
       "      <td>Nuke</td>\n",
       "      <td>9903</td>\n",
       "      <td>18</td>\n",
       "      <td>20</td>\n",
       "      <td>57.5</td>\n",
       "      <td>65.5</td>\n",
       "      <td>0.87</td>\n",
       "      <td>2311133/binary-dragons-vs-alpha-binary-dragons...</td>\n",
       "    </tr>\n",
       "  </tbody>\n",
       "</table>\n",
       "</div>"
      ],
      "text/plain": [
       "    Map  Player  Kills  Deaths   ADR  KAST%  Rating  \\\n",
       "0  Nuke    4216     22      19  85.0   69.0    1.17   \n",
       "1  Nuke    3543     26      23  83.5   58.6    1.10   \n",
       "2  Nuke    3972     20      23  78.2   75.9    1.02   \n",
       "3  Nuke    2476     17      20  68.1   79.3    0.97   \n",
       "4  Nuke    2299     17      20  66.3   65.5    0.86   \n",
       "5  Nuke   11915     28      21  99.8   65.5    1.35   \n",
       "6  Nuke   12802     20      17  78.2   75.9    1.20   \n",
       "7  Nuke    7590     21      24  85.6   65.5    1.03   \n",
       "8  Nuke    2982     18      20  66.6   69.0    1.00   \n",
       "9  Nuke    9903     18      20  57.5   65.5    0.87   \n",
       "\n",
       "                                             MatchID  \n",
       "0  2311133/binary-dragons-vs-alpha-binary-dragons...  \n",
       "1  2311133/binary-dragons-vs-alpha-binary-dragons...  \n",
       "2  2311133/binary-dragons-vs-alpha-binary-dragons...  \n",
       "3  2311133/binary-dragons-vs-alpha-binary-dragons...  \n",
       "4  2311133/binary-dragons-vs-alpha-binary-dragons...  \n",
       "5  2311133/binary-dragons-vs-alpha-binary-dragons...  \n",
       "6  2311133/binary-dragons-vs-alpha-binary-dragons...  \n",
       "7  2311133/binary-dragons-vs-alpha-binary-dragons...  \n",
       "8  2311133/binary-dragons-vs-alpha-binary-dragons...  \n",
       "9  2311133/binary-dragons-vs-alpha-binary-dragons...  "
      ]
     },
     "execution_count": 3,
     "metadata": {},
     "output_type": "execute_result"
    }
   ],
   "source": [
    "CSGOplayerstats = pd.read_csv('counter-strike/playerStats.csv')\n",
    "CSGOplayerstats.head(10)"
   ]
  },
  {
   "cell_type": "code",
   "execution_count": 4,
   "metadata": {
    "collapsed": true
   },
   "outputs": [],
   "source": [
    "train=CSGOplayerstats.sample(frac=0.8,random_state=200)\n",
    "test=CSGOplayerstats.drop(train.index)\n"
   ]
  },
  {
   "cell_type": "code",
   "execution_count": 5,
   "metadata": {},
   "outputs": [
    {
     "name": "stdout",
     "output_type": "stream",
     "text": [
      "average kills via method 1:  17.716625472998096\n",
      "average kills via method 2:  17.716625472998096\n"
     ]
    }
   ],
   "source": [
    "Kills = CSGOplayerstats['Kills']\n",
    "sum_kills = Kills.sum()\n",
    "num_players = Kills.size# when players is an Series .size returns its length\n",
    "avg_kills = sum_kills/num_players\n",
    "avg_kills2 = Kills.mean() # if you just want the average, the .mean() function\n",
    "print(\"average kills via method 1: \", avg_kills)\n",
    "print(\"average kills via method 2: \", avg_kills2)"
   ]
  },
  {
   "cell_type": "code",
   "execution_count": 6,
   "metadata": {
    "collapsed": true
   },
   "outputs": [],
   "source": [
    "def simple_linear_regression(input_feature, output):    \n",
    "    N = output.size\n",
    "    \n",
    "    # compute the mean of  input_feature and output\n",
    "    \n",
    "    # compute the product of the output and the input_feature and its mean\n",
    "    input_output_prod = input_feature * output\n",
    "    # compute the squared value of the input_feature and its mean\n",
    "    input_squared = input_feature * input_feature\n",
    "    # use the formula for the slope\n",
    "    slope = (input_output_prod.sum() - (input_feature.sum() * output.sum())/N) / (input_squared.sum() - (input_feature.sum() * input_feature.sum())/N)\n",
    "    # use the formula for the intercept\n",
    "    intercept = output.mean() - slope * input_feature.mean()\n",
    "    return (intercept, slope)"
   ]
  },
  {
   "cell_type": "code",
   "execution_count": 7,
   "metadata": {},
   "outputs": [
    {
     "name": "stdout",
     "output_type": "stream",
     "text": [
      "Intercept:  3.8545948499076346\n",
      "Slope:  13.043155049237484\n"
     ]
    }
   ],
   "source": [
    "kills_intercept, kills_slope = simple_linear_regression(train['Rating'], train['Kills'])\n",
    "\n",
    "print(\"Intercept: \", kills_intercept)\n",
    "print(\"Slope: \", kills_slope)"
   ]
  },
  {
   "cell_type": "code",
   "execution_count": 8,
   "metadata": {
    "collapsed": true
   },
   "outputs": [],
   "source": [
    "\n",
    "def get_regression_predictions(input_feature, intercept, slope):\n",
    "    # calculate the predicted values:\n",
    "    predicted_values = intercept + slope * input_feature\n",
    "    return predicted_values\n"
   ]
  },
  {
   "cell_type": "code",
   "execution_count": 9,
   "metadata": {},
   "outputs": [
    {
     "name": "stdout",
     "output_type": "stream",
     "text": [
      "The estimated Kills for a player with 1 Ratings is 16.90\n"
     ]
    }
   ],
   "source": [
    "    my_Rating = 1\n",
    "estimated_kills = get_regression_predictions(my_Rating, kills_intercept, kills_slope)\n",
    "print(\"The estimated Kills for a player with %d Ratings is %.2f\" % (my_Rating, estimated_kills))"
   ]
  },
  {
   "cell_type": "code",
   "execution_count": 10,
   "metadata": {},
   "outputs": [
    {
     "name": "stdout",
     "output_type": "stream",
     "text": [
      "Intercept:  24.639342211487197\n",
      "Slope:  -6.484443615731468\n"
     ]
    }
   ],
   "source": [
    "deaths_intercept, deaths_slope = simple_linear_regression(train['Rating'], train['Deaths'])\n",
    "\n",
    "print(\"Intercept: \", deaths_intercept)\n",
    "print(\"Slope: \", deaths_slope)"
   ]
  },
  {
   "cell_type": "code",
   "execution_count": 11,
   "metadata": {
    "collapsed": true
   },
   "outputs": [],
   "source": [
    "def get_regression_predictions(input_feature, intercept, slope):\n",
    "    # calculate the predicted values:\n",
    "    predicted_values = intercept + slope * input_feature\n",
    "    return predicted_values"
   ]
  },
  {
   "cell_type": "code",
   "execution_count": 12,
   "metadata": {},
   "outputs": [
    {
     "name": "stdout",
     "output_type": "stream",
     "text": [
      "The estimated Deaths for a player with 1 Ratings is 18.15\n"
     ]
    }
   ],
   "source": [
    "my_Rating = 1\n",
    "estimated_deaths = get_regression_predictions(my_Rating, deaths_intercept, deaths_slope)\n",
    "print(\"The estimated Deaths for a player with %d Ratings is %.2f\" % (my_Rating, estimated_deaths))"
   ]
  },
  {
   "cell_type": "markdown",
   "metadata": {},
   "source": [
    "# Testing the model"
   ]
  },
  {
   "cell_type": "code",
   "execution_count": 13,
   "metadata": {},
   "outputs": [
    {
     "name": "stdout",
     "output_type": "stream",
     "text": [
      "Intercept:  24.79275425202846\n",
      "Slope:  47.78609616176637\n"
     ]
    }
   ],
   "source": [
    "ADR_intercept, ADR_slope = simple_linear_regression(train['Rating'], train['ADR'])\n",
    "\n",
    "print(\"Intercept: \", ADR_intercept)\n",
    "print(\"Slope: \", ADR_slope)"
   ]
  },
  {
   "cell_type": "code",
   "execution_count": 14,
   "metadata": {},
   "outputs": [
    {
     "data": {
      "text/plain": [
       "(0          85.0\n",
       " 4          66.3\n",
       " 9          57.5\n",
       " 13         59.2\n",
       " 23         62.5\n",
       " 27         73.9\n",
       " 33         46.7\n",
       " 41         85.7\n",
       " 56         94.5\n",
       " 57         76.8\n",
       " 59         53.6\n",
       " 68         56.6\n",
       " 70         91.1\n",
       " 71         64.3\n",
       " 75        123.7\n",
       " 76         84.2\n",
       " 78         73.3\n",
       " 82         80.5\n",
       " 86         93.6\n",
       " 97         69.8\n",
       " 99         40.3\n",
       " 101       110.2\n",
       " 105        53.2\n",
       " 112        59.5\n",
       " 113        72.4\n",
       " 137        62.1\n",
       " 163        73.2\n",
       " 176        72.5\n",
       " 178        67.8\n",
       " 180       135.3\n",
       "           ...  \n",
       " 228445     77.3\n",
       " 228450    122.6\n",
       " 228452     80.9\n",
       " 228454     51.7\n",
       " 228462     73.1\n",
       " 228471    108.1\n",
       " 228472     73.8\n",
       " 228475     88.1\n",
       " 228481     88.6\n",
       " 228485     76.3\n",
       " 228493     80.3\n",
       " 228503     62.4\n",
       " 228505    106.0\n",
       " 228508     63.3\n",
       " 228512     77.1\n",
       " 228515    109.7\n",
       " 228522     81.3\n",
       " 228527    108.4\n",
       " 228528     66.8\n",
       " 228530     87.0\n",
       " 228535     85.0\n",
       " 228544     58.0\n",
       " 228554     53.6\n",
       " 228569     57.8\n",
       " 228585     86.5\n",
       " 228586     79.4\n",
       " 228588     92.3\n",
       " 228590     74.9\n",
       " 228591     57.5\n",
       " 228593     53.4\n",
       " Name: ADR, Length: 45719, dtype: float64, 0         1.17\n",
       " 4         0.86\n",
       " 9         0.87\n",
       " 13        1.22\n",
       " 23        0.81\n",
       " 27        1.08\n",
       " 33        0.65\n",
       " 41        1.21\n",
       " 56        1.16\n",
       " 57        1.12\n",
       " 59        0.69\n",
       " 68        0.76\n",
       " 70        1.09\n",
       " 71        0.90\n",
       " 75        1.86\n",
       " 76        1.23\n",
       " 78        1.20\n",
       " 82        0.99\n",
       " 86        1.31\n",
       " 97        0.91\n",
       " 99        0.50\n",
       " 101       1.66\n",
       " 105       0.61\n",
       " 112       0.60\n",
       " 113       0.50\n",
       " 137       0.93\n",
       " 163       0.86\n",
       " 176       1.00\n",
       " 178       0.89\n",
       " 180       2.03\n",
       "           ... \n",
       " 228445    1.04\n",
       " 228450    1.68\n",
       " 228452    1.10\n",
       " 228454    0.87\n",
       " 228462    0.99\n",
       " 228471    1.49\n",
       " 228472    1.18\n",
       " 228475    1.24\n",
       " 228481    1.37\n",
       " 228485    1.06\n",
       " 228493    1.10\n",
       " 228503    0.69\n",
       " 228505    1.38\n",
       " 228508    0.75\n",
       " 228512    1.19\n",
       " 228515    1.76\n",
       " 228522    0.89\n",
       " 228527    1.46\n",
       " 228528    1.14\n",
       " 228530    1.00\n",
       " 228535    1.37\n",
       " 228544    0.81\n",
       " 228554    0.90\n",
       " 228569    0.44\n",
       " 228585    1.55\n",
       " 228586    1.47\n",
       " 228588    1.25\n",
       " 228590    1.01\n",
       " 228591    0.85\n",
       " 228593    0.75\n",
       " Name: Rating, Length: 45719, dtype: float64, 24.79275425202846, 47.78609616176637)"
      ]
     },
     "execution_count": 14,
     "metadata": {},
     "output_type": "execute_result"
    }
   ],
   "source": [
    "# Compute Residual Sum of Square when using ADR(Assist Death Ratio) on TEST data:\n",
    "ADR_test_rss = (test['ADR'], test['Rating'], ADR_intercept, ADR_slope)\n",
    "ADR_test_rss"
   ]
  },
  {
   "cell_type": "code",
   "execution_count": 15,
   "metadata": {},
   "outputs": [
    {
     "data": {
      "text/plain": [
       "<matplotlib.collections.PathCollection at 0x1f1405664e0>"
      ]
     },
     "execution_count": 15,
     "metadata": {},
     "output_type": "execute_result"
    },
    {
     "data": {
      "image/png": "[encoded data removed]",
      "text/plain": [
       "<matplotlib.figure.Figure at 0x1f13f389780>"
      ]
     },
     "metadata": {},
     "output_type": "display_data"
    }
   ],
   "source": [
    "plt.figure()\n",
    "plt.scatter(x=test[['ADR']], y=test['Rating'], marker='o', c='b')"
   ]
  },
  {
   "cell_type": "code",
   "execution_count": 16,
   "metadata": {},
   "outputs": [
    {
     "data": {
      "text/plain": [
       "(0         22\n",
       " 4         17\n",
       " 9         18\n",
       " 13        15\n",
       " 23        14\n",
       " 27        17\n",
       " 33         9\n",
       " 41        27\n",
       " 56        24\n",
       " 57        20\n",
       " 59        13\n",
       " 68         9\n",
       " 70        19\n",
       " 71        19\n",
       " 75        33\n",
       " 76        18\n",
       " 78        19\n",
       " 82        19\n",
       " 86        25\n",
       " 97        11\n",
       " 99         8\n",
       " 101       19\n",
       " 105        7\n",
       " 112        9\n",
       " 113        8\n",
       " 137       19\n",
       " 163       16\n",
       " 176       22\n",
       " 178       18\n",
       " 180       31\n",
       "           ..\n",
       " 228445    20\n",
       " 228450    30\n",
       " 228452    21\n",
       " 228454    15\n",
       " 228462    17\n",
       " 228471    21\n",
       " 228472    16\n",
       " 228475    23\n",
       " 228481    23\n",
       " 228485    20\n",
       " 228493    19\n",
       " 228503    11\n",
       " 228505    24\n",
       " 228508    16\n",
       " 228512    20\n",
       " 228515    27\n",
       " 228522    18\n",
       " 228527    18\n",
       " 228528    14\n",
       " 228530    15\n",
       " 228535    22\n",
       " 228544    12\n",
       " 228554    14\n",
       " 228569     8\n",
       " 228585    22\n",
       " 228586    18\n",
       " 228588    16\n",
       " 228590    13\n",
       " 228591    15\n",
       " 228593    10\n",
       " Name: Kills, Length: 45719, dtype: int64, 0         1.17\n",
       " 4         0.86\n",
       " 9         0.87\n",
       " 13        1.22\n",
       " 23        0.81\n",
       " 27        1.08\n",
       " 33        0.65\n",
       " 41        1.21\n",
       " 56        1.16\n",
       " 57        1.12\n",
       " 59        0.69\n",
       " 68        0.76\n",
       " 70        1.09\n",
       " 71        0.90\n",
       " 75        1.86\n",
       " 76        1.23\n",
       " 78        1.20\n",
       " 82        0.99\n",
       " 86        1.31\n",
       " 97        0.91\n",
       " 99        0.50\n",
       " 101       1.66\n",
       " 105       0.61\n",
       " 112       0.60\n",
       " 113       0.50\n",
       " 137       0.93\n",
       " 163       0.86\n",
       " 176       1.00\n",
       " 178       0.89\n",
       " 180       2.03\n",
       "           ... \n",
       " 228445    1.04\n",
       " 228450    1.68\n",
       " 228452    1.10\n",
       " 228454    0.87\n",
       " 228462    0.99\n",
       " 228471    1.49\n",
       " 228472    1.18\n",
       " 228475    1.24\n",
       " 228481    1.37\n",
       " 228485    1.06\n",
       " 228493    1.10\n",
       " 228503    0.69\n",
       " 228505    1.38\n",
       " 228508    0.75\n",
       " 228512    1.19\n",
       " 228515    1.76\n",
       " 228522    0.89\n",
       " 228527    1.46\n",
       " 228528    1.14\n",
       " 228530    1.00\n",
       " 228535    1.37\n",
       " 228544    0.81\n",
       " 228554    0.90\n",
       " 228569    0.44\n",
       " 228585    1.55\n",
       " 228586    1.47\n",
       " 228588    1.25\n",
       " 228590    1.01\n",
       " 228591    0.85\n",
       " 228593    0.75\n",
       " Name: Rating, Length: 45719, dtype: float64, 3.8545948499076346, 13.043155049237484)"
      ]
     },
     "execution_count": 16,
     "metadata": {},
     "output_type": "execute_result"
    }
   ],
   "source": [
    "# Compute Residual Sum of Square when using Kills on TEST data:\n",
    "Kills_test_rss = (test['Kills'], test['Rating'], kills_intercept, kills_slope)\n",
    "Kills_test_rss"
   ]
  },
  {
   "cell_type": "code",
   "execution_count": 17,
   "metadata": {
    "scrolled": true
   },
   "outputs": [
    {
     "data": {
      "text/plain": [
       "<matplotlib.collections.PathCollection at 0x1f140972198>"
      ]
     },
     "execution_count": 17,
     "metadata": {},
     "output_type": "execute_result"
    },
    {
     "data": {
      "image/png": "[encoded data removed]",
      "text/plain": [
       "<matplotlib.figure.Figure at 0x1f1408ccb00>"
      ]
     },
     "metadata": {},
     "output_type": "display_data"
    }
   ],
   "source": [
    "plt.figure()\n",
    "plt.scatter(x=test[['Kills']], y=test['Rating'], marker='o', c='b')"
   ]
  },
  {
   "cell_type": "code",
   "execution_count": 18,
   "metadata": {
    "collapsed": true
   },
   "outputs": [],
   "source": [
    "X = CSGOplayerstats[['Player', 'Deaths', 'KAST%', 'Rating']]\n",
    "y = CSGOplayerstats['Kills']"
   ]
  },
  {
   "cell_type": "code",
   "execution_count": 29,
   "metadata": {},
   "outputs": [],
   "source": [
    "from sklearn.linear_model import LinearRegression\n",
    "from sklearn.model_selection import train_test_split\n",
    "\n",
    "lm = LinearRegression()"
   ]
  },
  {
   "cell_type": "code",
   "execution_count": 30,
   "metadata": {
    "collapsed": true
   },
   "outputs": [],
   "source": [
    "X_train, X_test, y_train, y_test = train_test_split(X, y, test_size=0.4, random_state=101)"
   ]
  },
  {
   "cell_type": "code",
   "execution_count": 31,
   "metadata": {},
   "outputs": [
    {
     "data": {
      "text/plain": [
       "LinearRegression(copy_X=True, fit_intercept=True, n_jobs=1, normalize=False)"
      ]
     },
     "execution_count": 31,
     "metadata": {},
     "output_type": "execute_result"
    }
   ],
   "source": [
    "lm.fit(X, y)"
   ]
  },
  {
   "cell_type": "code",
   "execution_count": 32,
   "metadata": {},
   "outputs": [
    {
     "data": {
      "text/plain": [
       "array([  5.14925019,  27.09242871,   7.04443451, ...,  24.86554315,\n",
       "        22.12241401,  14.28948646])"
      ]
     },
     "execution_count": 32,
     "metadata": {},
     "output_type": "execute_result"
    }
   ],
   "source": [
    "predicted= lm.predict(X_test)\n",
    "predicted"
   ]
  },
  {
   "cell_type": "code",
   "execution_count": 33,
   "metadata": {},
   "outputs": [
    {
     "data": {
      "text/plain": [
       "0.86268682797075147"
      ]
     },
     "execution_count": 33,
     "metadata": {},
     "output_type": "execute_result"
    }
   ],
   "source": [
    "lm.score(X,y)\n",
    "#Accuracy score for Linear Regression is 86%"
   ]
  },
  {
   "cell_type": "code",
   "execution_count": null,
   "metadata": {
    "collapsed": true
   },
   "outputs": [],
   "source": []
  },
  {
   "cell_type": "code",
   "execution_count": null,
   "metadata": {},
   "outputs": [],
   "source": []
  },
  {
   "cell_type": "code",
   "execution_count": null,
   "metadata": {
    "collapsed": true
   },
   "outputs": [],
   "source": [
    "\n"
   ]
  }
 ],
 "metadata": {
  "kernelspec": {
   "display_name": "Python 3",
   "language": "python",
   "name": "python3"
  },
  "language_info": {
   "codemirror_mode": {
    "name": "ipython",
    "version": 3
   },
   "file_extension": ".py",
   "mimetype": "text/x-python",
   "name": "python",
   "nbconvert_exporter": "python",
   "pygments_lexer": "ipython3",
   "version": "3.7.1"
  }
 },
 "nbformat": 4,
 "nbformat_minor": 2
}
