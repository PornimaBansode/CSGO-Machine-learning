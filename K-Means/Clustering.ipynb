{
 "cells": [
  {
   "cell_type": "code",
   "execution_count": 54,
   "metadata": {
    "collapsed": true
   },
   "outputs": [],
   "source": [
    "import pandas as pd\n",
    "from scipy import stats\n",
    "from sklearn.cluster import KMeans\n",
    "import matplotlib.pyplot as plt\n",
    "import seaborn as sns"
   ]
  },
  {
   "cell_type": "code",
   "execution_count": 55,
   "metadata": {
    "collapsed": true
   },
   "outputs": [],
   "source": [
    "csgo = pd.read_csv('counter-strike/playerStats.csv')"
   ]
  },
  {
   "cell_type": "code",
   "execution_count": 56,
   "metadata": {},
   "outputs": [
    {
     "data": {
      "text/html": [
       "<div>\n",
       "<style>\n",
       "    .dataframe thead tr:only-child th {\n",
       "        text-align: right;\n",
       "    }\n",
       "\n",
       "    .dataframe thead th {\n",
       "        text-align: left;\n",
       "    }\n",
       "\n",
       "    .dataframe tbody tr th {\n",
       "        vertical-align: top;\n",
       "    }\n",
       "</style>\n",
       "<table border=\"1\" class=\"dataframe\">\n",
       "  <thead>\n",
       "    <tr style=\"text-align: right;\">\n",
       "      <th></th>\n",
       "      <th>Map</th>\n",
       "      <th>Player</th>\n",
       "      <th>Kills</th>\n",
       "      <th>Deaths</th>\n",
       "      <th>ADR</th>\n",
       "      <th>KAST%</th>\n",
       "      <th>Rating</th>\n",
       "      <th>MatchID</th>\n",
       "    </tr>\n",
       "  </thead>\n",
       "  <tbody>\n",
       "    <tr>\n",
       "      <th>0</th>\n",
       "      <td>Nuke</td>\n",
       "      <td>4216</td>\n",
       "      <td>22</td>\n",
       "      <td>19</td>\n",
       "      <td>85.0</td>\n",
       "      <td>69.0</td>\n",
       "      <td>1.17</td>\n",
       "      <td>2311133/binary-dragons-vs-alpha-binary-dragons...</td>\n",
       "    </tr>\n",
       "    <tr>\n",
       "      <th>1</th>\n",
       "      <td>Nuke</td>\n",
       "      <td>3543</td>\n",
       "      <td>26</td>\n",
       "      <td>23</td>\n",
       "      <td>83.5</td>\n",
       "      <td>58.6</td>\n",
       "      <td>1.10</td>\n",
       "      <td>2311133/binary-dragons-vs-alpha-binary-dragons...</td>\n",
       "    </tr>\n",
       "    <tr>\n",
       "      <th>2</th>\n",
       "      <td>Nuke</td>\n",
       "      <td>3972</td>\n",
       "      <td>20</td>\n",
       "      <td>23</td>\n",
       "      <td>78.2</td>\n",
       "      <td>75.9</td>\n",
       "      <td>1.02</td>\n",
       "      <td>2311133/binary-dragons-vs-alpha-binary-dragons...</td>\n",
       "    </tr>\n",
       "    <tr>\n",
       "      <th>3</th>\n",
       "      <td>Nuke</td>\n",
       "      <td>2476</td>\n",
       "      <td>17</td>\n",
       "      <td>20</td>\n",
       "      <td>68.1</td>\n",
       "      <td>79.3</td>\n",
       "      <td>0.97</td>\n",
       "      <td>2311133/binary-dragons-vs-alpha-binary-dragons...</td>\n",
       "    </tr>\n",
       "    <tr>\n",
       "      <th>4</th>\n",
       "      <td>Nuke</td>\n",
       "      <td>2299</td>\n",
       "      <td>17</td>\n",
       "      <td>20</td>\n",
       "      <td>66.3</td>\n",
       "      <td>65.5</td>\n",
       "      <td>0.86</td>\n",
       "      <td>2311133/binary-dragons-vs-alpha-binary-dragons...</td>\n",
       "    </tr>\n",
       "    <tr>\n",
       "      <th>5</th>\n",
       "      <td>Nuke</td>\n",
       "      <td>11915</td>\n",
       "      <td>28</td>\n",
       "      <td>21</td>\n",
       "      <td>99.8</td>\n",
       "      <td>65.5</td>\n",
       "      <td>1.35</td>\n",
       "      <td>2311133/binary-dragons-vs-alpha-binary-dragons...</td>\n",
       "    </tr>\n",
       "    <tr>\n",
       "      <th>6</th>\n",
       "      <td>Nuke</td>\n",
       "      <td>12802</td>\n",
       "      <td>20</td>\n",
       "      <td>17</td>\n",
       "      <td>78.2</td>\n",
       "      <td>75.9</td>\n",
       "      <td>1.20</td>\n",
       "      <td>2311133/binary-dragons-vs-alpha-binary-dragons...</td>\n",
       "    </tr>\n",
       "    <tr>\n",
       "      <th>7</th>\n",
       "      <td>Nuke</td>\n",
       "      <td>7590</td>\n",
       "      <td>21</td>\n",
       "      <td>24</td>\n",
       "      <td>85.6</td>\n",
       "      <td>65.5</td>\n",
       "      <td>1.03</td>\n",
       "      <td>2311133/binary-dragons-vs-alpha-binary-dragons...</td>\n",
       "    </tr>\n",
       "    <tr>\n",
       "      <th>8</th>\n",
       "      <td>Nuke</td>\n",
       "      <td>2982</td>\n",
       "      <td>18</td>\n",
       "      <td>20</td>\n",
       "      <td>66.6</td>\n",
       "      <td>69.0</td>\n",
       "      <td>1.00</td>\n",
       "      <td>2311133/binary-dragons-vs-alpha-binary-dragons...</td>\n",
       "    </tr>\n",
       "    <tr>\n",
       "      <th>9</th>\n",
       "      <td>Nuke</td>\n",
       "      <td>9903</td>\n",
       "      <td>18</td>\n",
       "      <td>20</td>\n",
       "      <td>57.5</td>\n",
       "      <td>65.5</td>\n",
       "      <td>0.87</td>\n",
       "      <td>2311133/binary-dragons-vs-alpha-binary-dragons...</td>\n",
       "    </tr>\n",
       "  </tbody>\n",
       "</table>\n",
       "</div>"
      ],
      "text/plain": [
       "    Map  Player  Kills  Deaths   ADR  KAST%  Rating  \\\n",
       "0  Nuke    4216     22      19  85.0   69.0    1.17   \n",
       "1  Nuke    3543     26      23  83.5   58.6    1.10   \n",
       "2  Nuke    3972     20      23  78.2   75.9    1.02   \n",
       "3  Nuke    2476     17      20  68.1   79.3    0.97   \n",
       "4  Nuke    2299     17      20  66.3   65.5    0.86   \n",
       "5  Nuke   11915     28      21  99.8   65.5    1.35   \n",
       "6  Nuke   12802     20      17  78.2   75.9    1.20   \n",
       "7  Nuke    7590     21      24  85.6   65.5    1.03   \n",
       "8  Nuke    2982     18      20  66.6   69.0    1.00   \n",
       "9  Nuke    9903     18      20  57.5   65.5    0.87   \n",
       "\n",
       "                                             MatchID  \n",
       "0  2311133/binary-dragons-vs-alpha-binary-dragons...  \n",
       "1  2311133/binary-dragons-vs-alpha-binary-dragons...  \n",
       "2  2311133/binary-dragons-vs-alpha-binary-dragons...  \n",
       "3  2311133/binary-dragons-vs-alpha-binary-dragons...  \n",
       "4  2311133/binary-dragons-vs-alpha-binary-dragons...  \n",
       "5  2311133/binary-dragons-vs-alpha-binary-dragons...  \n",
       "6  2311133/binary-dragons-vs-alpha-binary-dragons...  \n",
       "7  2311133/binary-dragons-vs-alpha-binary-dragons...  \n",
       "8  2311133/binary-dragons-vs-alpha-binary-dragons...  \n",
       "9  2311133/binary-dragons-vs-alpha-binary-dragons...  "
      ]
     },
     "execution_count": 56,
     "metadata": {},
     "output_type": "execute_result"
    }
   ],
   "source": [
    "#Make a copy of DataFrame\n",
    "csgo_new = csgo\n",
    "csgo_new.head(10)"
   ]
  },
  {
   "cell_type": "code",
   "execution_count": 57,
   "metadata": {
    "collapsed": true
   },
   "outputs": [],
   "source": [
    "#Transsform the Map to dummies\n",
    "csgo_new = pd.get_dummies(csgo_new, columns=['Map'])"
   ]
  },
  {
   "cell_type": "code",
   "execution_count": 58,
   "metadata": {
    "collapsed": true
   },
   "outputs": [],
   "source": [
    "#Standardize\n",
    "clmns = ['Map_Nuke','Map_Cobblestone','Map_Inferno','Player','Kills', 'Deaths',\n",
    "         'Rating']\n",
    "csgo_std = stats.zscore(csgo_new[clmns])"
   ]
  },
  {
   "cell_type": "code",
   "execution_count": 59,
   "metadata": {
    "collapsed": true
   },
   "outputs": [],
   "source": [
    "#Cluster the data\n",
    "kmeans = KMeans(n_clusters=2, random_state=0).fit(csgo_std)\n",
    "labels = kmeans.labels_"
   ]
  },
  {
   "cell_type": "code",
   "execution_count": 60,
   "metadata": {
    "collapsed": true
   },
   "outputs": [],
   "source": [
    "#Glue back to originaal data\n",
    "csgo_new['clusters'] = labels"
   ]
  },
  {
   "cell_type": "code",
   "execution_count": 61,
   "metadata": {},
   "outputs": [
    {
     "data": {
      "text/plain": [
       "['Map_Nuke',\n",
       " 'Map_Cobblestone',\n",
       " 'Map_Inferno',\n",
       " 'Player',\n",
       " 'Kills',\n",
       " 'Deaths',\n",
       " 'Rating',\n",
       " 'clusters']"
      ]
     },
     "execution_count": 61,
     "metadata": {},
     "output_type": "execute_result"
    }
   ],
   "source": [
    "#Add the column into our list\n",
    "clmns.extend(['clusters'])\n",
    "clmns"
   ]
  },
  {
   "cell_type": "code",
   "execution_count": 62,
   "metadata": {},
   "outputs": [
    {
     "name": "stdout",
     "output_type": "stream",
     "text": [
      "          Map_Nuke  Map_Cobblestone  Map_Inferno       Player      Kills  \\\n",
      "clusters                                                                   \n",
      "0         0.058894         0.154442     0.087589  7920.491749  22.123772   \n",
      "1         0.059532         0.144829     0.096392  8460.732762  13.886430   \n",
      "\n",
      "             Deaths    Rating  \n",
      "clusters                       \n",
      "0         15.819168  1.357791  \n",
      "1         19.437790  0.805860  \n"
     ]
    }
   ],
   "source": [
    "#Lets analyze the clusters\n",
    "print  (csgo_new[clmns].groupby(['clusters']).mean())"
   ]
  },
  {
   "cell_type": "code",
   "execution_count": 63,
   "metadata": {},
   "outputs": [
    {
     "data": {
      "text/plain": [
       "<matplotlib.text.Text at 0x119f0658f28>"
      ]
     },
     "execution_count": 63,
     "metadata": {},
     "output_type": "execute_result"
    },
    {
     "data": {
      "image/png": "[encoded data removed]",
      "text/plain": [
       "<matplotlib.figure.Figure at 0x119f407f9e8>"
      ]
     },
     "metadata": {},
     "output_type": "display_data"
    }
   ],
   "source": [
    "%matplotlib inline\n",
    "#Scatter plot of Kills and Death\n",
    "sns.lmplot('Kills', 'Deaths', \n",
    "           data=csgo_new, \n",
    "           fit_reg=False, \n",
    "           hue=\"clusters\",  \n",
    "           scatter_kws={\"marker\": \"D\", \n",
    "                        \"s\": 100})\n",
    "plt.title('Clusters Kills vs Deaths')\n",
    "plt.xlabel('Kills')\n",
    "plt.ylabel('Deaths')"
   ]
  },
  {
   "cell_type": "code",
   "execution_count": 65,
   "metadata": {
    "collapsed": true
   },
   "outputs": [],
   "source": [
    "X = csgo_new[['Player','Deaths', 'Rating']]\n",
    "y = csgo_new['Kills']"
   ]
  },
  {
   "cell_type": "code",
   "execution_count": 85,
   "metadata": {},
   "outputs": [
    {
     "name": "stderr",
     "output_type": "stream",
     "text": [
      "C:\\Users\\Pornima\\Anaconda3\\lib\\site-packages\\statsmodels\\compat\\pandas.py:56: FutureWarning: The pandas.core.datetools module is deprecated and will be removed in a future version. Please use the pandas.tseries module instead.\n",
      "  from pandas.core import datetools\n"
     ]
    }
   ],
   "source": [
    "from sklearn.model_selection import cross_val_predict\n",
    "from sklearn import cross_validation\n",
    "#from sklearn.model_selection import \n",
    "from sklearn.model_selection import KMeans\n",
    "import statsmodels.api as sm\n",
    "from sklearn.cross_validation import train_test_split\n",
    "X_train, X_test,y_train,y_test =  cross_validation.train_test_split(X,y,test_size=0.50,random_state=70)"
   ]
  },
  {
   "cell_type": "code",
   "execution_count": 117,
   "metadata": {
    "collapsed": true
   },
   "outputs": [],
   "source": [
    "kmeans = KMeans(n_clusters=2, random_state=0).fit(X)"
   ]
  },
  {
   "cell_type": "code",
   "execution_count": 118,
   "metadata": {},
   "outputs": [
    {
     "data": {
      "text/plain": [
       "array([0, 0, 0, ..., 0, 1, 0])"
      ]
     },
     "execution_count": 118,
     "metadata": {},
     "output_type": "execute_result"
    }
   ],
   "source": [
    "#Predict Output\n",
    "predicted= kmeans.predict(X_test)\n",
    "predicted"
   ]
  },
  {
   "cell_type": "code",
   "execution_count": 119,
   "metadata": {},
   "outputs": [
    {
     "data": {
      "text/plain": [
       "-849523891255.4408"
      ]
     },
     "execution_count": 119,
     "metadata": {},
     "output_type": "execute_result"
    }
   ],
   "source": [
    "kmeans.score(X,y)"
   ]
  },
  {
   "cell_type": "code",
   "execution_count": 120,
   "metadata": {},
   "outputs": [
    {
     "data": {
      "text/plain": [
       "0.00020997742742655164"
      ]
     },
     "execution_count": 120,
     "metadata": {},
     "output_type": "execute_result"
    }
   ],
   "source": [
    "from sklearn.metrics import accuracy_score\n",
    "\n",
    "accuracy_score(y_test, predicted)"
   ]
  },
  {
   "cell_type": "code",
   "execution_count": 109,
   "metadata": {},
   "outputs": [
    {
     "name": "stdout",
     "output_type": "stream",
     "text": [
      "[1 0 0 ..., 1 1 1]\n",
      "122963    13\n",
      "7562      10\n",
      "152574    28\n",
      "97552     16\n",
      "203896    20\n",
      "90077     14\n",
      "80895     26\n",
      "184114    29\n",
      "96179      7\n",
      "11181     21\n",
      "224857    17\n",
      "140842    22\n",
      "20651     22\n",
      "23387      9\n",
      "219736    19\n",
      "190681    14\n",
      "44034     25\n",
      "60170     11\n",
      "185855    11\n",
      "35573     21\n",
      "52939     32\n",
      "41927     17\n",
      "34301     19\n",
      "113419    17\n",
      "179189    17\n",
      "69135     19\n",
      "106434    21\n",
      "79736     20\n",
      "189437    19\n",
      "122486    14\n",
      "          ..\n",
      "145258    11\n",
      "106303     9\n",
      "62986     21\n",
      "177679    26\n",
      "134754    12\n",
      "218172     2\n",
      "1685      27\n",
      "212152    20\n",
      "14938     10\n",
      "215117    17\n",
      "57641     12\n",
      "19196     21\n",
      "84943     21\n",
      "71297     16\n",
      "81748      3\n",
      "210657    13\n",
      "77620     27\n",
      "221463    15\n",
      "45024     32\n",
      "198344    24\n",
      "215655    23\n",
      "159060    15\n",
      "178805    17\n",
      "202069    29\n",
      "176564    28\n",
      "80768     15\n",
      "152635    26\n",
      "156988    17\n",
      "218226    12\n",
      "220494    18\n",
      "Name: Kills, Length: 114297, dtype: int64\n",
      "Accuracy:0.000394\n",
      "[1 0 0 ..., 1 1 1]\n",
      "133668    23\n",
      "109190    31\n",
      "217501    21\n",
      "4471      16\n",
      "67240     12\n",
      "206966    22\n",
      "24201     17\n",
      "61        16\n",
      "139210    18\n",
      "40903     12\n",
      "146882    11\n",
      "169284    13\n",
      "81267     22\n",
      "84775     17\n",
      "20346     21\n",
      "163533    14\n",
      "174195    23\n",
      "114864    13\n",
      "114804    11\n",
      "177261    16\n",
      "137052    18\n",
      "135667    19\n",
      "138739    11\n",
      "30491     19\n",
      "115209    15\n",
      "205624    26\n",
      "9453      20\n",
      "153395    24\n",
      "203266    19\n",
      "102582    18\n",
      "          ..\n",
      "197835    30\n",
      "57632      9\n",
      "94285     22\n",
      "44852     22\n",
      "216112    27\n",
      "126709    11\n",
      "171087    21\n",
      "93416     20\n",
      "213015    24\n",
      "197966    15\n",
      "205899    19\n",
      "122870    24\n",
      "194986    23\n",
      "226750    21\n",
      "987       16\n",
      "144223    12\n",
      "168145    23\n",
      "156880    15\n",
      "220998    17\n",
      "99735     15\n",
      "170491    23\n",
      "147065    30\n",
      "5816      26\n",
      "33851     16\n",
      "81099     11\n",
      "73410     26\n",
      "141467    19\n",
      "227943    11\n",
      "193050    22\n",
      "58107     22\n",
      "Name: Kills, Length: 114298, dtype: int64\n"
     ]
    }
   ],
   "source": [
    "k_means = cluster.KMeans(n_clusters=2)\n",
    "k_means.fit(X_train)\n",
    "print(k_means.labels_[:])\n",
    "print(y_train[:])\n",
    "\n",
    "score = accuracy_score(y_test,k_means.predict(X_test))\n",
    "print('Accuracy:{0:f}'.format(score))\n",
    "\n",
    "k_means.predict(X_test)\n",
    "print(k_means.labels_[:])\n",
    "print(y_test[:])"
   ]
  },
  {
   "cell_type": "code",
   "execution_count": null,
   "metadata": {
    "collapsed": true
   },
   "outputs": [],
   "source": []
  },
  {
   "cell_type": "code",
   "execution_count": null,
   "metadata": {
    "collapsed": true
   },
   "outputs": [],
   "source": []
  }
 ],
 "metadata": {
  "kernelspec": {
   "display_name": "Python 3",
   "language": "python",
   "name": "python3"
  },
  "language_info": {
   "codemirror_mode": {
    "name": "ipython",
    "version": 3
   },
   "file_extension": ".py",
   "mimetype": "text/x-python",
   "name": "python",
   "nbconvert_exporter": "python",
   "pygments_lexer": "ipython3",
   "version": "3.7.1"
  }
 },
 "nbformat": 4,
 "nbformat_minor": 2
}
