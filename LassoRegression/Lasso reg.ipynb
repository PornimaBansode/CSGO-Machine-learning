{
 "cells": [
  {
   "cell_type": "code",
   "execution_count": 20,
   "metadata": {},
   "outputs": [],
   "source": [
    "import time\n",
    "import pandas as pd\n",
    "import numpy as np\n",
    "import matplotlib.pyplot as plt\n",
    "from sklearn import linear_model\n",
    "reg = linear_model.LinearRegression()\n",
    "from sklearn.linear_model import LassoCV, LassoLarsCV, LassoLarsIC"
   ]
  },
  {
   "cell_type": "code",
   "execution_count": 21,
   "metadata": {},
   "outputs": [
    {
     "data": {
      "text/html": [
       "<div>\n",
       "<style>\n",
       "    .dataframe thead tr:only-child th {\n",
       "        text-align: right;\n",
       "    }\n",
       "\n",
       "    .dataframe thead th {\n",
       "        text-align: left;\n",
       "    }\n",
       "\n",
       "    .dataframe tbody tr th {\n",
       "        vertical-align: top;\n",
       "    }\n",
       "</style>\n",
       "<table border=\"1\" class=\"dataframe\">\n",
       "  <thead>\n",
       "    <tr style=\"text-align: right;\">\n",
       "      <th></th>\n",
       "      <th>Map</th>\n",
       "      <th>Player</th>\n",
       "      <th>Kills</th>\n",
       "      <th>Deaths</th>\n",
       "      <th>ADR</th>\n",
       "      <th>KAST%</th>\n",
       "      <th>Rating</th>\n",
       "      <th>MatchID</th>\n",
       "    </tr>\n",
       "  </thead>\n",
       "  <tbody>\n",
       "    <tr>\n",
       "      <th>0</th>\n",
       "      <td>Nuke</td>\n",
       "      <td>4216</td>\n",
       "      <td>22</td>\n",
       "      <td>19</td>\n",
       "      <td>85.0</td>\n",
       "      <td>69.0</td>\n",
       "      <td>1.17</td>\n",
       "      <td>2311133/binary-dragons-vs-alpha-binary-dragons...</td>\n",
       "    </tr>\n",
       "    <tr>\n",
       "      <th>1</th>\n",
       "      <td>Nuke</td>\n",
       "      <td>3543</td>\n",
       "      <td>26</td>\n",
       "      <td>23</td>\n",
       "      <td>83.5</td>\n",
       "      <td>58.6</td>\n",
       "      <td>1.10</td>\n",
       "      <td>2311133/binary-dragons-vs-alpha-binary-dragons...</td>\n",
       "    </tr>\n",
       "    <tr>\n",
       "      <th>2</th>\n",
       "      <td>Nuke</td>\n",
       "      <td>3972</td>\n",
       "      <td>20</td>\n",
       "      <td>23</td>\n",
       "      <td>78.2</td>\n",
       "      <td>75.9</td>\n",
       "      <td>1.02</td>\n",
       "      <td>2311133/binary-dragons-vs-alpha-binary-dragons...</td>\n",
       "    </tr>\n",
       "    <tr>\n",
       "      <th>3</th>\n",
       "      <td>Nuke</td>\n",
       "      <td>2476</td>\n",
       "      <td>17</td>\n",
       "      <td>20</td>\n",
       "      <td>68.1</td>\n",
       "      <td>79.3</td>\n",
       "      <td>0.97</td>\n",
       "      <td>2311133/binary-dragons-vs-alpha-binary-dragons...</td>\n",
       "    </tr>\n",
       "    <tr>\n",
       "      <th>4</th>\n",
       "      <td>Nuke</td>\n",
       "      <td>2299</td>\n",
       "      <td>17</td>\n",
       "      <td>20</td>\n",
       "      <td>66.3</td>\n",
       "      <td>65.5</td>\n",
       "      <td>0.86</td>\n",
       "      <td>2311133/binary-dragons-vs-alpha-binary-dragons...</td>\n",
       "    </tr>\n",
       "    <tr>\n",
       "      <th>5</th>\n",
       "      <td>Nuke</td>\n",
       "      <td>11915</td>\n",
       "      <td>28</td>\n",
       "      <td>21</td>\n",
       "      <td>99.8</td>\n",
       "      <td>65.5</td>\n",
       "      <td>1.35</td>\n",
       "      <td>2311133/binary-dragons-vs-alpha-binary-dragons...</td>\n",
       "    </tr>\n",
       "    <tr>\n",
       "      <th>6</th>\n",
       "      <td>Nuke</td>\n",
       "      <td>12802</td>\n",
       "      <td>20</td>\n",
       "      <td>17</td>\n",
       "      <td>78.2</td>\n",
       "      <td>75.9</td>\n",
       "      <td>1.20</td>\n",
       "      <td>2311133/binary-dragons-vs-alpha-binary-dragons...</td>\n",
       "    </tr>\n",
       "    <tr>\n",
       "      <th>7</th>\n",
       "      <td>Nuke</td>\n",
       "      <td>7590</td>\n",
       "      <td>21</td>\n",
       "      <td>24</td>\n",
       "      <td>85.6</td>\n",
       "      <td>65.5</td>\n",
       "      <td>1.03</td>\n",
       "      <td>2311133/binary-dragons-vs-alpha-binary-dragons...</td>\n",
       "    </tr>\n",
       "    <tr>\n",
       "      <th>8</th>\n",
       "      <td>Nuke</td>\n",
       "      <td>2982</td>\n",
       "      <td>18</td>\n",
       "      <td>20</td>\n",
       "      <td>66.6</td>\n",
       "      <td>69.0</td>\n",
       "      <td>1.00</td>\n",
       "      <td>2311133/binary-dragons-vs-alpha-binary-dragons...</td>\n",
       "    </tr>\n",
       "    <tr>\n",
       "      <th>9</th>\n",
       "      <td>Nuke</td>\n",
       "      <td>9903</td>\n",
       "      <td>18</td>\n",
       "      <td>20</td>\n",
       "      <td>57.5</td>\n",
       "      <td>65.5</td>\n",
       "      <td>0.87</td>\n",
       "      <td>2311133/binary-dragons-vs-alpha-binary-dragons...</td>\n",
       "    </tr>\n",
       "  </tbody>\n",
       "</table>\n",
       "</div>"
      ],
      "text/plain": [
       "    Map  Player  Kills  Deaths   ADR  KAST%  Rating  \\\n",
       "0  Nuke    4216     22      19  85.0   69.0    1.17   \n",
       "1  Nuke    3543     26      23  83.5   58.6    1.10   \n",
       "2  Nuke    3972     20      23  78.2   75.9    1.02   \n",
       "3  Nuke    2476     17      20  68.1   79.3    0.97   \n",
       "4  Nuke    2299     17      20  66.3   65.5    0.86   \n",
       "5  Nuke   11915     28      21  99.8   65.5    1.35   \n",
       "6  Nuke   12802     20      17  78.2   75.9    1.20   \n",
       "7  Nuke    7590     21      24  85.6   65.5    1.03   \n",
       "8  Nuke    2982     18      20  66.6   69.0    1.00   \n",
       "9  Nuke    9903     18      20  57.5   65.5    0.87   \n",
       "\n",
       "                                             MatchID  \n",
       "0  2311133/binary-dragons-vs-alpha-binary-dragons...  \n",
       "1  2311133/binary-dragons-vs-alpha-binary-dragons...  \n",
       "2  2311133/binary-dragons-vs-alpha-binary-dragons...  \n",
       "3  2311133/binary-dragons-vs-alpha-binary-dragons...  \n",
       "4  2311133/binary-dragons-vs-alpha-binary-dragons...  \n",
       "5  2311133/binary-dragons-vs-alpha-binary-dragons...  \n",
       "6  2311133/binary-dragons-vs-alpha-binary-dragons...  \n",
       "7  2311133/binary-dragons-vs-alpha-binary-dragons...  \n",
       "8  2311133/binary-dragons-vs-alpha-binary-dragons...  \n",
       "9  2311133/binary-dragons-vs-alpha-binary-dragons...  "
      ]
     },
     "execution_count": 21,
     "metadata": {},
     "output_type": "execute_result"
    }
   ],
   "source": [
    "CSGOplayerstats = pd.read_csv('counter-strike/playerStats.csv')\n",
    "CSGOplayerstats.head(10)"
   ]
  },
  {
   "cell_type": "code",
   "execution_count": 22,
   "metadata": {
    "collapsed": true
   },
   "outputs": [],
   "source": [
    "X = CSGOplayerstats[['Player', 'Deaths', 'KAST%', 'Rating']]\n",
    "y = CSGOplayerstats['Kills']"
   ]
  },
  {
   "cell_type": "code",
   "execution_count": 23,
   "metadata": {
    "collapsed": true
   },
   "outputs": [],
   "source": [
    "from sklearn.model_selection import train_test_split"
   ]
  },
  {
   "cell_type": "code",
   "execution_count": 24,
   "metadata": {
    "collapsed": true
   },
   "outputs": [],
   "source": [
    "X_train, X_test, y_train, y_test = train_test_split(X, y, test_size=0.4, random_state=101)"
   ]
  },
  {
   "cell_type": "code",
   "execution_count": 25,
   "metadata": {
    "collapsed": true
   },
   "outputs": [],
   "source": [
    "\n",
    "CSGOplayerstats = LassoLarsCV(cv=10, precompute= False).fit(X_train,y_train)"
   ]
  },
  {
   "cell_type": "code",
   "execution_count": 26,
   "metadata": {},
   "outputs": [
    {
     "name": "stdout",
     "output_type": "stream",
     "text": [
      "0.0001 [ -5.80640747e-06   8.53284979e-01  -5.38930280e-02   2.01045687e+01]\n",
      "0.000215443469003 [ -5.80698975e-06   8.53249983e-01  -5.38350728e-02   2.01017475e+01]\n",
      "0.000464158883361 [ -5.80824341e-06   8.53174592e-01  -5.37102024e-02   2.00956693e+01]\n",
      "0.001 [ -5.81094639e-06   8.53012158e-01  -5.34412020e-02   2.00825747e+01]\n",
      "0.00215443469003 [ -5.81676652e-06   8.52662217e-01  -5.28616189e-02   2.00543624e+01]\n",
      "0.00464158883361 [ -5.82931386e-06   8.51908262e-01  -5.16130444e-02   1.99935833e+01]\n",
      "0.01 [ -5.85635028e-06   8.50283898e-01  -4.89231202e-02   1.98626402e+01]\n",
      "0.0215443469003 [ -5.91462139e-06   8.46784225e-01  -4.31281300e-02   1.95805391e+01]\n",
      "0.0464158883361 [ -6.04014790e-06   8.39244464e-01  -3.06430242e-02   1.89727659e+01]\n",
      "0.1 [ -6.31062258e-06   8.23000404e-01  -3.74511268e-03   1.76633699e+01]\n"
     ]
    }
   ],
   "source": [
    "alphas = np.logspace(-4, -1, 10)\n",
    "scores = np.empty_like(alphas)\n",
    "for i,a in enumerate(alphas):\n",
    "    lasso = linear_model.Lasso()\n",
    "    lasso.set_params(alpha=a)\n",
    "    lasso.fit(X_train, y_train)\n",
    "    scores[i] = lasso.score(X_test, y_test)\n",
    "    print(a, lasso.coef_)"
   ]
  },
  {
   "cell_type": "code",
   "execution_count": 27,
   "metadata": {},
   "outputs": [
    {
     "data": {
      "text/plain": [
       "array([  5.77536023,  25.92580941,   7.54129012, ...,  24.35456617,\n",
       "        21.88527461,  13.95745982])"
      ]
     },
     "execution_count": 27,
     "metadata": {},
     "output_type": "execute_result"
    }
   ],
   "source": [
    "#Predict Output\n",
    "predicted= lasso.predict(X_test)\n",
    "predicted"
   ]
  },
  {
   "cell_type": "code",
   "execution_count": 30,
   "metadata": {},
   "outputs": [
    {
     "data": {
      "text/plain": [
       "0.85651049810352919"
      ]
     },
     "execution_count": 30,
     "metadata": {},
     "output_type": "execute_result"
    }
   ],
   "source": [
    "lasso.score(X, y)\n",
    "#accuracy_score(predicted, normalize = True)"
   ]
  },
  {
   "cell_type": "code",
   "execution_count": 31,
   "metadata": {},
   "outputs": [
    {
     "name": "stdout",
     "output_type": "stream",
     "text": [
      "CV [ -7.96439131e-06   6.65204091e-01   2.29610030e-01   5.85605464e+00]\n"
     ]
    }
   ],
   "source": [
    "lassocv = linear_model.LassoCV()\n",
    "lassocv.fit(X, y)\n",
    "lassocv_score = lassocv.score(X, y)\n",
    "lassocv_alpha = lassocv.alpha_\n",
    "print('CV', lassocv.coef_)\n"
   ]
  },
  {
   "cell_type": "code",
   "execution_count": 34,
   "metadata": {},
   "outputs": [
    {
     "data": {
      "text/plain": [
       "0.65398240476028424"
      ]
     },
     "execution_count": 34,
     "metadata": {},
     "output_type": "execute_result"
    }
   ],
   "source": [
    "lassocv.score(X, y)"
   ]
  },
  {
   "cell_type": "code",
   "execution_count": 32,
   "metadata": {
    "collapsed": true
   },
   "outputs": [],
   "source": [
    "import seaborn as sns\n",
    "import matplotlib.pyplot as plt\n",
    "%matplotlib inline"
   ]
  },
  {
   "cell_type": "code",
   "execution_count": 33,
   "metadata": {},
   "outputs": [
    {
     "data": {
      "image/png": "[encoded data removed]",
      "text/plain": [
       "<matplotlib.figure.Figure at 0x1b0b3b61128>"
      ]
     },
     "metadata": {},
     "output_type": "display_data"
    }
   ],
   "source": [
    "\n",
    "plt.plot(alphas, scores, '-ko')\n",
    "plt.axhline(lassocv_score, color='b', ls='--')\n",
    "plt.axvline(lassocv_alpha, color='b', ls='--')\n",
    "plt.xlabel(r'$\\alpha$')\n",
    "plt.ylabel('Score')\n",
    "plt.xscale('log')\n",
    "sns.despine(offset=15)"
   ]
  }
 ],
 "metadata": {
  "kernelspec": {
   "display_name": "Python 3",
   "language": "python",
   "name": "python3"
  },
  "language_info": {
   "codemirror_mode": {
    "name": "ipython",
    "version": 3
   },
   "file_extension": ".py",
   "mimetype": "text/x-python",
   "name": "python",
   "nbconvert_exporter": "python",
   "pygments_lexer": "ipython3",
   "version": "3.7.1"
  }
 },
 "nbformat": 4,
 "nbformat_minor": 2
}
